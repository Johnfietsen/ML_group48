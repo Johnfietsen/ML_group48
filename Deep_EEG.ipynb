{
 "cells": [
  {
   "cell_type": "code",
   "execution_count": 1,
   "metadata": {},
   "outputs": [
    {
     "name": "stderr",
     "output_type": "stream",
     "text": [
      "c:\\users\\sebastiaan\\appdata\\local\\programs\\python\\python36\\lib\\site-packages\\h5py\\__init__.py:36: FutureWarning: Conversion of the second argument of issubdtype from `float` to `np.floating` is deprecated. In future, it will be treated as `np.float64 == np.dtype(float).type`.\n",
      "  from ._conv import register_converters as _register_converters\n",
      "Using TensorFlow backend.\n"
     ]
    }
   ],
   "source": [
    "from keras.utils import to_categorical\n",
    "from keras.optimizers import Adam, Adadelta, SGD\n",
    "from keras.models import Sequential\n",
    "from keras.layers import Dense, Activation, Conv2D, MaxPool2D, Dropout, Flatten, Conv1D, GlobalAveragePooling1D, Convolution1D\n",
    "from keras.layers.convolutional import MaxPooling2D, MaxPooling1D\n",
    "from keras.models import load_model\n",
    "import numpy as np\n",
    "import pandas as pd\n",
    "from sklearn.linear_model import LogisticRegression\n",
    "from sklearn.preprocessing import StandardScaler, Normalizer\n",
    "from sklearn.decomposition import PCA\n",
    "from sklearn.model_selection import train_test_split\n",
    "from sklearn.metrics import roc_curve, auc, roc_auc_score\n",
    "from sklearn.utils import class_weight\n",
    "from scipy import signal\n",
    "from glob import glob\n",
    "import matplotlib.pyplot as plt\n",
    "import warnings\n",
    "warnings.filterwarnings('ignore')"
   ]
  },
  {
   "cell_type": "code",
   "execution_count": 2,
   "metadata": {},
   "outputs": [],
   "source": [
    "# constants:\n",
    "SUBSAMPLE = 100  # scales the data by this factor\n",
    "COLUMNS = ['HandStart', 'FirstDigitTouch',\n",
    "        'BothStartLoadPhase', 'LiftOff',\n",
    "        'Replace', 'BothReleased']\n",
    "SUBJECTS = range(1, 2)\n",
    "N_LABELS = 6\n",
    "\n",
    "# Below are the paths to the data. Please pay attention to the % and * signs, these are needed in the loop.\n",
    "TRAIN_DATA_PATH = 'C:/Users/Sebastiaan/Desktop/Programming/MachineLearning/Datasets/EEG/train/subj%d_series*_data.csv'\n",
    "EPOCHS = 5\n",
    "WINDOW_SIZE = 1000"
   ]
  },
  {
   "cell_type": "code",
   "execution_count": 3,
   "metadata": {},
   "outputs": [],
   "source": [
    "def prepare_training_data(data_path):\n",
    "    data = pd.read_csv(data_path)\n",
    "    event_path = data_path.replace('_data', '_events')\n",
    "    labels = pd.read_csv(event_path)\n",
    "    clean_data = data.drop(['id'], axis = 1)\n",
    "    labels = labels.drop(['id'], axis = 1)\n",
    "    return clean_data, labels"
   ]
  },
  {
   "cell_type": "code",
   "execution_count": 4,
   "metadata": {},
   "outputs": [],
   "source": [
    "def prepare_test_data(data_path):\n",
    "    data = pd.read_csv(data_path)\n",
    "    return data"
   ]
  },
  {
   "cell_type": "code",
   "execution_count": 5,
   "metadata": {},
   "outputs": [],
   "source": [
    "def scaler_transform(data, scaler):\n",
    "    if scaler == None:\n",
    "        scaler = Normalizer()\n",
    "        return scaler.fit_transform(data), scaler\n",
    "    else:\n",
    "        return scaler.transform(data)   "
   ]
  },
  {
   "cell_type": "code",
   "execution_count": 6,
   "metadata": {},
   "outputs": [],
   "source": [
    "def read_training_data(train_data_paths):\n",
    "    labels_raw = []\n",
    "    features_raw = []\n",
    "    for data_path in train_data_paths:\n",
    "        data, labels = prepare_training_data(data_path)\n",
    "        features_raw.append(data)\n",
    "        labels_raw.append(labels)\n",
    "    features_raw = pd.concat(features_raw)\n",
    "    labels_raw = pd.concat(labels_raw)\n",
    "    x_train = np.asarray(features_raw.astype(float))\n",
    "    y_train = np.asarray(labels_raw.astype(float))\n",
    "    return x_train, y_train"
   ]
  },
  {
   "cell_type": "code",
   "execution_count": 7,
   "metadata": {},
   "outputs": [],
   "source": [
    "def train_model(x_train, y_train, model):\n",
    "    model.fit(x_train, y_train)\n",
    "    return model"
   ]
  },
  {
   "cell_type": "code",
   "execution_count": 8,
   "metadata": {},
   "outputs": [],
   "source": [
    "def make_prediction(x_test, model):\n",
    "    prediction = model.predict_proba(x_test)[:,1]\n",
    "    return prediction"
   ]
  },
  {
   "cell_type": "code",
   "execution_count": 9,
   "metadata": {},
   "outputs": [],
   "source": [
    "def metric_auc_score(predictions, y_test, with_plot):\n",
    "    scores = []\n",
    "    legend_text = []\n",
    "    for i in range(N_LABELS):\n",
    "        fpr, tpr, _  = roc_curve(y_test[:,i], predictions[:,i], 1)\n",
    "        scores.append(roc_auc_score(y_test[:,i], predictions[:,i]))\n",
    "        legend_text.append(COLUMNS[i]+' (area = %.3f)' % (scores[i]))\n",
    "        if with_plot == True:\n",
    "            plt.plot(fpr, tpr)\n",
    "    if with_plot == True:\n",
    "        plt.xlabel('False Positive Rate')\n",
    "        plt.ylabel('True Positive Rate')\n",
    "        plt.title('ROC Curves')\n",
    "        plt.legend(legend_text)\n",
    "        plt.show()\n",
    "    return scores"
   ]
  },
  {
   "cell_type": "code",
   "execution_count": 10,
   "metadata": {},
   "outputs": [],
   "source": [
    "def single_metric_auc_score(predictions, y_test, with_plot):\n",
    "    fpr, tpr, _  = roc_curve(y_test, predictions, 1)\n",
    "    score = roc_auc_score(y_test, predictions)\n",
    "    print(COLUMNS[0]+' AUC score = %.3f' % (score))\n",
    "    if with_plot == True:\n",
    "        plt.plot(fpr, tpr)\n",
    "        plt.xlabel('False Positive Rate')\n",
    "        plt.ylabel('True Positive Rate')\n",
    "        plt.title('ROC Curves')\n",
    "        plt.show()\n",
    "    return score"
   ]
  },
  {
   "cell_type": "code",
   "execution_count": 11,
   "metadata": {},
   "outputs": [],
   "source": [
    "def all_auc_scores(prediction_total, test_data_total, subjects, with_plot):\n",
    "    scores = []\n",
    "    for subject in subjects:\n",
    "        score = metric_auc_score(prediction_total[subject-1],\n",
    "                                 test_data_total[subject-1], with_plot)\n",
    "        scores.append(score)\n",
    "        print('Mean AUC Score of Subject %d: %.3f' % \\\n",
    "              (subject, np.mean(score)))\n",
    "    return scores"
   ]
  },
  {
   "cell_type": "code",
   "execution_count": 12,
   "metadata": {},
   "outputs": [],
   "source": [
    "def image_mappping(x_train, WINDOW_SIZE):\n",
    "    result = []\n",
    "    empty_matrix = np.zeros(np.shape(x_train[0:WINDOW_SIZE]))\n",
    "    for i in range(len(x_train)):\n",
    "        if i-WINDOW_SIZE < 0:\n",
    "            result.append(empty_matrix)\n",
    "        else:\n",
    "            result.append(x_train[i-WINDOW_SIZE:i])\n",
    "    return result"
   ]
  },
  {
   "cell_type": "code",
   "execution_count": 13,
   "metadata": {},
   "outputs": [],
   "source": [
    "def resample_and_shuffle(labels):\n",
    "    when_task = np.where(labels == 1)\n",
    "    when_no_task = np.where(labels == 0)\n",
    "    when_no_task = when_no_task[0][0:len(when_task[0])]\n",
    "    indices = np.concatenate([when_task[0], when_no_task])\n",
    "    np.random.shuffle(indices)\n",
    "    return indices"
   ]
  },
  {
   "cell_type": "code",
   "execution_count": 14,
   "metadata": {},
   "outputs": [],
   "source": [
    "def balance_set(indices, x_train, y_train):\n",
    "    balance_x = []\n",
    "    balance_y = []\n",
    "    for index in indices:\n",
    "        balance_x.append(x_train[index])\n",
    "        balance_y.append(y_train[index])\n",
    "    return np.array(balance_x), np.array(balance_y)"
   ]
  },
  {
   "cell_type": "code",
   "execution_count": 15,
   "metadata": {},
   "outputs": [],
   "source": [
    "def init_cnn(window):\n",
    "\n",
    "\n",
    "    model = Sequential()\n",
    "    model.add(Conv1D(nb_filter=16, filter_length=3, activation='relu', input_shape=(window, 32)))\n",
    "    model.add(MaxPooling1D(3,2))\n",
    "    model.add(Conv1D(nb_filter=32, filter_length=3, activation='relu'))\n",
    "    model.add(Conv1D(nb_filter=64, filter_length=3, activation='relu'))\n",
    "    model.add(MaxPooling1D(3,2))\n",
    "    model.add(Dropout(0.5))\n",
    "    model.add(Dense(128, activation='relu'))\n",
    "    model.add(Dropout(0.5))\n",
    "    model.add(Flatten())\n",
    "    model.add(Dense(128, activation='relu'))\n",
    "    model.add(Dense(2, activation='softmax'))\n",
    "#     model.summary()\n",
    "    \n",
    "    optimizer = SGD(lr=0.001, momentum=0.0, decay=0.0, nesterov=False)\n",
    "#     optimizer = Adam(lr=1e-6)\n",
    "    model.compile(optimizer=optimizer, loss='binary_crossentropy', metrics=['accuracy'])\n",
    "    return model"
   ]
  },
  {
   "cell_type": "code",
   "execution_count": 16,
   "metadata": {
    "scrolled": false
   },
   "outputs": [
    {
     "name": "stdout",
     "output_type": "stream",
     "text": [
      "WARNING:tensorflow:From c:\\users\\sebastiaan\\appdata\\local\\programs\\python\\python36\\lib\\site-packages\\tensorflow\\python\\util\\deprecation.py:497: calling conv1d (from tensorflow.python.ops.nn_ops) with data_format=NHWC is deprecated and will be removed in a future version.\n",
      "Instructions for updating:\n",
      "`NHWC` for data_format is deprecated, use `NWC` instead\n",
      "Train on 4969 samples, validate on 1243 samples\n",
      "Epoch 1/20\n",
      "4969/4969 [==============================] - 9s 2ms/step - loss: 0.6955 - acc: 0.4957 - val_loss: 0.6913 - val_acc: 0.5117\n",
      "Epoch 2/20\n",
      "4969/4969 [==============================] - 4s 877us/step - loss: 0.6926 - acc: 0.5114 - val_loss: 0.6898 - val_acc: 0.5728\n",
      "Epoch 3/20\n",
      "4969/4969 [==============================] - 4s 862us/step - loss: 0.6915 - acc: 0.5293 - val_loss: 0.6883 - val_acc: 0.5519\n",
      "Epoch 4/20\n",
      "4969/4969 [==============================] - 4s 850us/step - loss: 0.6893 - acc: 0.5363 - val_loss: 0.6862 - val_acc: 0.5961\n",
      "Epoch 5/20\n",
      "4969/4969 [==============================] - 4s 860us/step - loss: 0.6851 - acc: 0.5567 - val_loss: 0.6841 - val_acc: 0.5825\n",
      "Epoch 6/20\n",
      "4969/4969 [==============================] - 4s 879us/step - loss: 0.6844 - acc: 0.5655 - val_loss: 0.6817 - val_acc: 0.5591\n",
      "Epoch 7/20\n",
      "4969/4969 [==============================] - 4s 866us/step - loss: 0.6825 - acc: 0.5617 - val_loss: 0.6782 - val_acc: 0.6460\n",
      "Epoch 8/20\n",
      "4969/4969 [==============================] - 4s 869us/step - loss: 0.6800 - acc: 0.5824 - val_loss: 0.6752 - val_acc: 0.6404\n",
      "Epoch 9/20\n",
      "4969/4969 [==============================] - 4s 860us/step - loss: 0.6762 - acc: 0.6031 - val_loss: 0.6706 - val_acc: 0.6621\n",
      "Epoch 10/20\n",
      "4969/4969 [==============================] - 4s 861us/step - loss: 0.6714 - acc: 0.6132 - val_loss: 0.6664 - val_acc: 0.6388\n",
      "Epoch 11/20\n",
      "4969/4969 [==============================] - 4s 880us/step - loss: 0.6651 - acc: 0.6285 - val_loss: 0.6601 - val_acc: 0.7056\n",
      "Epoch 12/20\n",
      "4969/4969 [==============================] - 4s 860us/step - loss: 0.6579 - acc: 0.6470 - val_loss: 0.6531 - val_acc: 0.7072\n",
      "Epoch 13/20\n",
      "4969/4969 [==============================] - 4s 856us/step - loss: 0.6513 - acc: 0.6657 - val_loss: 0.6449 - val_acc: 0.7160\n",
      "Epoch 14/20\n",
      "4969/4969 [==============================] - 4s 886us/step - loss: 0.6402 - acc: 0.6768 - val_loss: 0.6341 - val_acc: 0.7200\n",
      "Epoch 15/20\n",
      "4969/4969 [==============================] - 4s 866us/step - loss: 0.6287 - acc: 0.6861 - val_loss: 0.6207 - val_acc: 0.7265\n",
      "Epoch 16/20\n",
      "4969/4969 [==============================] - 4s 863us/step - loss: 0.6108 - acc: 0.7126 - val_loss: 0.6060 - val_acc: 0.7345\n",
      "Epoch 17/20\n",
      "4969/4969 [==============================] - 4s 856us/step - loss: 0.5988 - acc: 0.7150 - val_loss: 0.5898 - val_acc: 0.7409\n",
      "Epoch 18/20\n",
      "4969/4969 [==============================] - 4s 863us/step - loss: 0.5783 - acc: 0.7344 - val_loss: 0.5720 - val_acc: 0.7538\n",
      "Epoch 19/20\n",
      "4969/4969 [==============================] - 4s 862us/step - loss: 0.5594 - acc: 0.7450 - val_loss: 0.5556 - val_acc: 0.7570\n",
      "Epoch 20/20\n",
      "4969/4969 [==============================] - 4s 850us/step - loss: 0.5441 - acc: 0.7545 - val_loss: 0.5421 - val_acc: 0.7643\n"
     ]
    }
   ],
   "source": [
    "prediction_total = []\n",
    "test_data_total = []\n",
    "ids_total = []\n",
    "for subject in SUBJECTS:\n",
    "    test_features_raw = []\n",
    "    train_data_paths = glob(TRAIN_DATA_PATH % (subject))\n",
    "\n",
    "  \n",
    "\n",
    "    x_raw, y_raw = read_training_data(train_data_paths)\n",
    "    \n",
    "    x_raw, scaler = scaler_transform(x_raw[::10], None)\n",
    "    \n",
    "    x_raw = image_mappping(x_raw, WINDOW_SIZE)\n",
    "\n",
    "    y_raw = y_raw[::10]\n",
    "    \n",
    "#     Below you define the model you want to use.\n",
    "    \n",
    "    for i in range(1):\n",
    "        model = init_cnn(WINDOW_SIZE)\n",
    "\n",
    "\n",
    "        x_train, x_test, y_train, y_test = train_test_split(x_raw, y_raw, test_size=0.2)\n",
    "        \n",
    "        \n",
    "        indices = resample_and_shuffle(y_train[:,i])\n",
    "        \n",
    "        x_train, y_train = balance_set(indices, x_train, y_train[:,i])\n",
    "        \n",
    "        train_labels = to_categorical(y_train, num_classes = None)\n",
    "        test_labels = to_categorical(y_test[:,i], num_classes = None)\n",
    "        \n",
    "        predictions = np.empty((y_test.shape[0],6))\n",
    "        \n",
    "#         x_test = np.array(x_test)\n",
    "        \n",
    "        \n",
    "        model.fit(x_train, train_labels, verbose=1, validation_split=0.2, epochs=20)\n",
    "        \n",
    "        \n",
    "        \n",
    "#         nsamples, nx, ny = x_train.shape\n",
    "#         x_train = x_train.reshape((nsamples,nx*ny))\n",
    "\n",
    "#         nsamples, nx, ny = x_test.shape\n",
    "#         x_test = x_test.reshape((nsamples,nx*ny))\n",
    "\n",
    "        \n",
    "        \n",
    "#         print('Train subject %d, class %s' % (subject, COLUMNS[i]))\n",
    "#         model = train_model(x_train, y_train, logreg)\n",
    "#         predictions[:,i] = make_prediction(x_test, model)\n",
    "#         single_metric_auc_score(predictions[:,i], y_test[:,i], True)\n",
    "# #         test_data_total.append(y_test)   \n",
    "#     prediction_total.append(predictions)"
   ]
  },
  {
   "cell_type": "code",
   "execution_count": 23,
   "metadata": {},
   "outputs": [],
   "source": [
    "x_test_sampled = np.array(x_test[::10])\n"
   ]
  },
  {
   "cell_type": "code",
   "execution_count": 24,
   "metadata": {},
   "outputs": [],
   "source": [
    "predictions = model.predict(x_test_sampled)"
   ]
  },
  {
   "cell_type": "code",
   "execution_count": null,
   "metadata": {},
   "outputs": [],
   "source": [
    "predictions[:,1]"
   ]
  },
  {
   "cell_type": "code",
   "execution_count": 25,
   "metadata": {},
   "outputs": [
    {
     "name": "stdout",
     "output_type": "stream",
     "text": [
      "HandStart AUC score = 0.715\n"
     ]
    },
    {
     "data": {
      "image/png": "[encoded data removed]",
      "text/plain": [
       "<Figure size 432x288 with 1 Axes>"
      ]
     },
     "metadata": {},
     "output_type": "display_data"
    },
    {
     "data": {
      "text/plain": [
       "0.7152792792792791"
      ]
     },
     "execution_count": 25,
     "metadata": {},
     "output_type": "execute_result"
    }
   ],
   "source": [
    "single_metric_auc_score(predictions[:,1], y_test[:,1][::10], True)"
   ]
  },
  {
   "cell_type": "code",
   "execution_count": 22,
   "metadata": {},
   "outputs": [],
   "source": [
    "from keras.models import load_model\n",
    "model.save('my_model.h5')"
   ]
  },
  {
   "cell_type": "code",
   "execution_count": null,
   "metadata": {},
   "outputs": [
    {
     "name": "stdout",
     "output_type": "stream",
     "text": [
      "Train on 4969 samples, validate on 1243 samples\n",
      "Epoch 1/50\n",
      "4969/4969 [==============================] - 4s 868us/step - loss: 0.3280 - acc: 0.8682 - val_loss: 0.3358 - val_acc: 0.8656\n",
      "Epoch 2/50\n",
      "4969/4969 [==============================] - 4s 863us/step - loss: 0.3313 - acc: 0.8652 - val_loss: 0.3400 - val_acc: 0.8681\n",
      "Epoch 3/50\n",
      "4969/4969 [==============================] - 4s 864us/step - loss: 0.3259 - acc: 0.8704 - val_loss: 0.3359 - val_acc: 0.8673\n",
      "Epoch 4/50\n",
      "4969/4969 [==============================] - 4s 861us/step - loss: 0.3304 - acc: 0.8646 - val_loss: 0.3439 - val_acc: 0.8665\n",
      "Epoch 5/50\n",
      "4969/4969 [==============================] - 4s 872us/step - loss: 0.3277 - acc: 0.8682 - val_loss: 0.3409 - val_acc: 0.8648\n",
      "Epoch 6/50\n",
      "4969/4969 [==============================] - 4s 859us/step - loss: 0.3263 - acc: 0.8696 - val_loss: 0.3273 - val_acc: 0.8697\n",
      "Epoch 7/50\n",
      "4969/4969 [==============================] - 4s 858us/step - loss: 0.3257 - acc: 0.8702 - val_loss: 0.3239 - val_acc: 0.8729\n",
      "Epoch 8/50\n",
      "4969/4969 [==============================] - 4s 866us/step - loss: 0.3226 - acc: 0.8676 - val_loss: 0.3324 - val_acc: 0.8705\n",
      "Epoch 9/50\n",
      "4969/4969 [==============================] - 4s 872us/step - loss: 0.3206 - acc: 0.8732 - val_loss: 0.3531 - val_acc: 0.8648\n",
      "Epoch 10/50\n",
      "4969/4969 [==============================] - 4s 855us/step - loss: 0.3194 - acc: 0.8746 - val_loss: 0.3211 - val_acc: 0.8737\n",
      "Epoch 11/50\n",
      "4969/4969 [==============================] - 4s 861us/step - loss: 0.3222 - acc: 0.8720 - val_loss: 0.3415 - val_acc: 0.8689\n",
      "Epoch 12/50\n",
      "4969/4969 [==============================] - 4s 856us/step - loss: 0.3204 - acc: 0.8710 - val_loss: 0.3297 - val_acc: 0.8689\n",
      "Epoch 13/50\n",
      "4969/4969 [==============================] - 4s 858us/step - loss: 0.3124 - acc: 0.8714 - val_loss: 0.3406 - val_acc: 0.8697\n",
      "Epoch 14/50\n",
      "4969/4969 [==============================] - 4s 861us/step - loss: 0.3173 - acc: 0.8726 - val_loss: 0.3256 - val_acc: 0.8705\n",
      "Epoch 15/50\n",
      "4969/4969 [==============================] - 4s 872us/step - loss: 0.3156 - acc: 0.8764 - val_loss: 0.3235 - val_acc: 0.8721\n",
      "Epoch 16/50\n",
      "4969/4969 [==============================] - 4s 861us/step - loss: 0.3102 - acc: 0.8778 - val_loss: 0.3169 - val_acc: 0.8745\n",
      "Epoch 17/50\n",
      "4969/4969 [==============================] - 4s 855us/step - loss: 0.3123 - acc: 0.8768 - val_loss: 0.3231 - val_acc: 0.8729\n",
      "Epoch 18/50\n",
      "4969/4969 [==============================] - 4s 849us/step - loss: 0.3089 - acc: 0.8756 - val_loss: 0.3360 - val_acc: 0.8721\n",
      "Epoch 19/50\n",
      "4969/4969 [==============================] - 4s 850us/step - loss: 0.3102 - acc: 0.8756 - val_loss: 0.3387 - val_acc: 0.8721\n",
      "Epoch 20/50\n",
      "4969/4969 [==============================] - 4s 847us/step - loss: 0.3133 - acc: 0.8756 - val_loss: 0.3283 - val_acc: 0.8761\n",
      "Epoch 21/50\n",
      "4969/4969 [==============================] - 4s 850us/step - loss: 0.3064 - acc: 0.8754 - val_loss: 0.3357 - val_acc: 0.8737\n",
      "Epoch 22/50\n",
      "4969/4969 [==============================] - 4s 872us/step - loss: 0.3059 - acc: 0.8774 - val_loss: 0.3171 - val_acc: 0.8769\n",
      "Epoch 23/50\n",
      "4969/4969 [==============================] - 4s 858us/step - loss: 0.3033 - acc: 0.8782 - val_loss: 0.3347 - val_acc: 0.8753\n",
      "Epoch 24/50\n",
      "4969/4969 [==============================] - 4s 855us/step - loss: 0.2996 - acc: 0.8788 - val_loss: 0.3224 - val_acc: 0.8761\n",
      "Epoch 25/50\n",
      "4969/4969 [==============================] - 4s 858us/step - loss: 0.3002 - acc: 0.8811 - val_loss: 0.3310 - val_acc: 0.8777\n",
      "Epoch 26/50\n",
      "4969/4969 [==============================] - 4s 851us/step - loss: 0.3000 - acc: 0.8813 - val_loss: 0.3159 - val_acc: 0.8801\n",
      "Epoch 27/50\n",
      "4969/4969 [==============================] - 4s 852us/step - loss: 0.2997 - acc: 0.8827 - val_loss: 0.3082 - val_acc: 0.8793\n",
      "Epoch 28/50\n",
      "4969/4969 [==============================] - 4s 864us/step - loss: 0.2938 - acc: 0.8827 - val_loss: 0.3150 - val_acc: 0.8809\n",
      "Epoch 29/50\n",
      "4969/4969 [==============================] - 4s 855us/step - loss: 0.2954 - acc: 0.8803 - val_loss: 0.3201 - val_acc: 0.8769\n",
      "Epoch 30/50\n",
      "4969/4969 [==============================] - 4s 849us/step - loss: 0.2923 - acc: 0.8883 - val_loss: 0.3142 - val_acc: 0.8825\n",
      "Epoch 31/50\n",
      "4969/4969 [==============================] - 4s 863us/step - loss: 0.2936 - acc: 0.8811 - val_loss: 0.3311 - val_acc: 0.8809\n",
      "Epoch 32/50\n",
      "4969/4969 [==============================] - 4s 853us/step - loss: 0.2918 - acc: 0.8853 - val_loss: 0.3138 - val_acc: 0.8833\n",
      "Epoch 33/50\n",
      "4969/4969 [==============================] - 4s 862us/step - loss: 0.2927 - acc: 0.8857 - val_loss: 0.3124 - val_acc: 0.8833\n",
      "Epoch 34/50\n",
      "4969/4969 [==============================] - 4s 865us/step - loss: 0.2925 - acc: 0.8843 - val_loss: 0.3181 - val_acc: 0.8833\n",
      "Epoch 35/50\n",
      "4969/4969 [==============================] - 4s 856us/step - loss: 0.2933 - acc: 0.8865 - val_loss: 0.2986 - val_acc: 0.8906\n",
      "Epoch 36/50\n",
      "4969/4969 [==============================] - 4s 853us/step - loss: 0.2919 - acc: 0.8859 - val_loss: 0.3076 - val_acc: 0.8850\n",
      "Epoch 37/50\n",
      "4969/4969 [==============================] - 4s 863us/step - loss: 0.2879 - acc: 0.8879 - val_loss: 0.3087 - val_acc: 0.8858\n",
      "Epoch 38/50\n",
      "4969/4969 [==============================] - 4s 862us/step - loss: 0.2863 - acc: 0.8883 - val_loss: 0.3199 - val_acc: 0.8833\n",
      "Epoch 39/50\n",
      "4969/4969 [==============================] - 4s 869us/step - loss: 0.2857 - acc: 0.8893 - val_loss: 0.2933 - val_acc: 0.8898\n",
      "Epoch 40/50\n",
      "4969/4969 [==============================] - 4s 859us/step - loss: 0.2799 - acc: 0.8859 - val_loss: 0.3140 - val_acc: 0.8858\n",
      "Epoch 41/50\n",
      "4969/4969 [==============================] - 4s 856us/step - loss: 0.2801 - acc: 0.8949 - val_loss: 0.2973 - val_acc: 0.8858\n",
      "Epoch 42/50\n",
      "4969/4969 [==============================] - 4s 852us/step - loss: 0.2801 - acc: 0.8895 - val_loss: 0.3062 - val_acc: 0.8858\n",
      "Epoch 43/50\n",
      "4969/4969 [==============================] - 4s 857us/step - loss: 0.2816 - acc: 0.8891 - val_loss: 0.3119 - val_acc: 0.8850\n",
      "Epoch 44/50\n",
      "4969/4969 [==============================] - 4s 849us/step - loss: 0.2753 - acc: 0.8947 - val_loss: 0.2933 - val_acc: 0.8954\n",
      "Epoch 45/50\n",
      "4969/4969 [==============================] - 4s 852us/step - loss: 0.2764 - acc: 0.8939 - val_loss: 0.2962 - val_acc: 0.8914\n",
      "Epoch 46/50\n",
      "4969/4969 [==============================] - 4s 857us/step - loss: 0.2831 - acc: 0.8889 - val_loss: 0.2924 - val_acc: 0.8954\n",
      "Epoch 47/50\n",
      "4969/4969 [==============================] - 4s 863us/step - loss: 0.2724 - acc: 0.8929 - val_loss: 0.3016 - val_acc: 0.8882\n",
      "Epoch 48/50\n",
      "4969/4969 [==============================] - 4s 859us/step - loss: 0.2719 - acc: 0.8941 - val_loss: 0.2985 - val_acc: 0.8898\n",
      "Epoch 49/50\n",
      "4969/4969 [==============================] - 4s 874us/step - loss: 0.2698 - acc: 0.8911 - val_loss: 0.2988 - val_acc: 0.8930\n",
      "Epoch 50/50\n",
      "1952/4969 [==========>...................] - ETA: 2s - loss: 0.2788 - acc: 0.8945"
     ]
    }
   ],
   "source": [
    "model.fit(x_train, train_labels, verbose=1, validation_split=0.2, epochs=50)"
   ]
  },
  {
   "cell_type": "code",
   "execution_count": 38,
   "metadata": {},
   "outputs": [],
   "source": [
    "predictions = model.predict(x_test_sampled)"
   ]
  },
  {
   "cell_type": "code",
   "execution_count": 39,
   "metadata": {},
   "outputs": [
    {
     "name": "stdout",
     "output_type": "stream",
     "text": [
      "HandStart AUC score = 0.775\n"
     ]
    },
    {
     "data": {
      "image/png": "[encoded data removed]",
      "text/plain": [
       "<Figure size 432x288 with 1 Axes>"
      ]
     },
     "metadata": {},
     "output_type": "display_data"
    },
    {
     "data": {
      "text/plain": [
       "0.7748108108108108"
      ]
     },
     "execution_count": 39,
     "metadata": {},
     "output_type": "execute_result"
    }
   ],
   "source": [
    "single_metric_auc_score(predictions[:,1], y_test[:,1][::10], True)"
   ]
  },
  {
   "cell_type": "code",
   "execution_count": null,
   "metadata": {},
   "outputs": [],
   "source": []
  }
 ],
 "metadata": {
  "kernelspec": {
   "display_name": "Python 3",
   "language": "python",
   "name": "python3"
  },
  "language_info": {
   "codemirror_mode": {
    "name": "ipython",
    "version": 3
   },
   "file_extension": ".py",
   "mimetype": "text/x-python",
   "name": "python",
   "nbconvert_exporter": "python",
   "pygments_lexer": "ipython3",
   "version": "3.6.4"
  }
 },
 "nbformat": 4,
 "nbformat_minor": 2
}
