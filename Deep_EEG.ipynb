{
 "cells": [
  {
   "cell_type": "code",
   "execution_count": 1,
   "metadata": {},
   "outputs": [
    {
     "name": "stderr",
     "output_type": "stream",
     "text": [
      "c:\\users\\sebastiaan\\appdata\\local\\programs\\python\\python36\\lib\\site-packages\\h5py\\__init__.py:36: FutureWarning: Conversion of the second argument of issubdtype from `float` to `np.floating` is deprecated. In future, it will be treated as `np.float64 == np.dtype(float).type`.\n",
      "  from ._conv import register_converters as _register_converters\n",
      "Using TensorFlow backend.\n"
     ]
    }
   ],
   "source": [
    "from keras.utils import to_categorical\n",
    "from keras.optimizers import Adam, Adadelta, SGD\n",
    "from keras.models import Sequential\n",
    "from keras.layers import Dense, Activation, Conv2D, MaxPool2D, Dropout, Flatten, Conv1D, GlobalAveragePooling1D, Convolution1D\n",
    "from keras.layers.convolutional import MaxPooling2D, MaxPooling1D\n",
    "from keras.models import load_model\n",
    "import numpy as np\n",
    "import pandas as pd\n",
    "from sklearn.linear_model import LogisticRegression\n",
    "from sklearn.preprocessing import StandardScaler, Normalizer\n",
    "from sklearn.decomposition import PCA\n",
    "from sklearn.model_selection import train_test_split\n",
    "from sklearn.metrics import roc_curve, auc, roc_auc_score\n",
    "from sklearn.utils import class_weight\n",
    "from scipy import signal\n",
    "from glob import glob\n",
    "import matplotlib.pyplot as plt\n",
    "import warnings\n",
    "warnings.filterwarnings('ignore')"
   ]
  },
  {
   "cell_type": "code",
   "execution_count": 2,
   "metadata": {},
   "outputs": [],
   "source": [
    "# constants:\n",
    "SUBSAMPLE = 100  # scales the data by this factor\n",
    "COLUMNS = ['HandStart', 'FirstDigitTouch',\n",
    "        'BothStartLoadPhase', 'LiftOff',\n",
    "        'Replace', 'BothReleased']\n",
    "SUBJECTS = range(1, 2)\n",
    "N_LABELS = 6\n",
    "\n",
    "# Below are the paths to the data. Please pay attention to the % and * signs, these are needed in the loop.\n",
    "TRAIN_DATA_PATH = 'C:/Users/Sebastiaan/Desktop/Programming/MachineLearning/Datasets/EEG/train/subj%d_series*_data.csv'\n",
    "EPOCHS = 5\n",
    "WINDOW_SIZE = 1000"
   ]
  },
  {
   "cell_type": "code",
   "execution_count": 3,
   "metadata": {},
   "outputs": [],
   "source": [
    "def prepare_training_data(data_path):\n",
    "    data = pd.read_csv(data_path)\n",
    "    event_path = data_path.replace('_data', '_events')\n",
    "    labels = pd.read_csv(event_path)\n",
    "    clean_data = data.drop(['id'], axis = 1)\n",
    "    labels = labels.drop(['id'], axis = 1)\n",
    "    return clean_data, labels"
   ]
  },
  {
   "cell_type": "code",
   "execution_count": 4,
   "metadata": {},
   "outputs": [],
   "source": [
    "def prepare_test_data(data_path):\n",
    "    data = pd.read_csv(data_path)\n",
    "    return data"
   ]
  },
  {
   "cell_type": "code",
   "execution_count": 5,
   "metadata": {},
   "outputs": [],
   "source": [
    "def scaler_transform(data, scaler):\n",
    "    if scaler == None:\n",
    "        scaler = Normalizer()\n",
    "        return scaler.fit_transform(data), scaler\n",
    "    else:\n",
    "        return scaler.transform(data)   "
   ]
  },
  {
   "cell_type": "code",
   "execution_count": 6,
   "metadata": {},
   "outputs": [],
   "source": [
    "def read_training_data(train_data_paths):\n",
    "    labels_raw = []\n",
    "    features_raw = []\n",
    "    for data_path in train_data_paths:\n",
    "        data, labels = prepare_training_data(data_path)\n",
    "        features_raw.append(data)\n",
    "        labels_raw.append(labels)\n",
    "    features_raw = pd.concat(features_raw)\n",
    "    labels_raw = pd.concat(labels_raw)\n",
    "    x_train = np.asarray(features_raw.astype(float))\n",
    "    y_train = np.asarray(labels_raw.astype(float))\n",
    "    return x_train, y_train"
   ]
  },
  {
   "cell_type": "code",
   "execution_count": 7,
   "metadata": {},
   "outputs": [],
   "source": [
    "def metric_auc_score(predictions, y_test, with_plot):\n",
    "    scores = []\n",
    "    legend_text = []\n",
    "    for i in range(N_LABELS):\n",
    "        fpr, tpr, _  = roc_curve(y_test[:,i], predictions[:,i], 1)\n",
    "        scores.append(roc_auc_score(y_test[:,i], predictions[:,i]))\n",
    "        legend_text.append(COLUMNS[i]+' (area = %.3f)' % (scores[i]))\n",
    "        if with_plot == True:\n",
    "            plt.plot(fpr, tpr)\n",
    "    if with_plot == True:\n",
    "        plt.xlabel('False Positive Rate')\n",
    "        plt.ylabel('True Positive Rate')\n",
    "        plt.title('ROC Curves')\n",
    "        plt.legend(legend_text)\n",
    "        plt.show()\n",
    "    return scores"
   ]
  },
  {
   "cell_type": "code",
   "execution_count": 8,
   "metadata": {},
   "outputs": [],
   "source": [
    "def single_metric_auc_score(predictions, y_test, with_plot, i):\n",
    "    fpr, tpr, _  = roc_curve(y_test, predictions, 1)\n",
    "    score = roc_auc_score(y_test, predictions)\n",
    "    print(COLUMNS[i]+' AUC score = %.3f' % (score))\n",
    "    if with_plot == True:\n",
    "        plt.plot(fpr, tpr)\n",
    "        plt.xlabel('False Positive Rate')\n",
    "        plt.ylabel('True Positive Rate')\n",
    "        plt.title('ROC Curves')\n",
    "        plt.show()\n",
    "    return score"
   ]
  },
  {
   "cell_type": "code",
   "execution_count": 9,
   "metadata": {},
   "outputs": [],
   "source": [
    "def all_auc_scores(prediction_total, test_data_total, subjects, with_plot):\n",
    "    scores = []\n",
    "    for subject in subjects:\n",
    "        score = metric_auc_score(prediction_total[subject-1],\n",
    "                                 test_data_total[subject-1], with_plot)\n",
    "        scores.append(score)\n",
    "        print('Mean AUC Score of Subject %d: %.3f' % \\\n",
    "              (subject, np.mean(score)))\n",
    "    return scores"
   ]
  },
  {
   "cell_type": "code",
   "execution_count": 10,
   "metadata": {},
   "outputs": [],
   "source": [
    "def image_mappping(x_train, WINDOW_SIZE):\n",
    "    result = []\n",
    "    empty_matrix = np.zeros(np.shape(x_train[0:WINDOW_SIZE]))\n",
    "    for i in range(len(x_train)):\n",
    "        if i-WINDOW_SIZE < 0:\n",
    "            result.append(empty_matrix)\n",
    "        else:\n",
    "            result.append(x_train[i-WINDOW_SIZE:i])\n",
    "    return result"
   ]
  },
  {
   "cell_type": "code",
   "execution_count": 11,
   "metadata": {},
   "outputs": [],
   "source": [
    "def resample_and_shuffle(labels):\n",
    "    when_task = np.where(labels == 1)\n",
    "    when_no_task = np.where(labels == 0)\n",
    "    when_no_task = when_no_task[0][0:len(when_task[0])]\n",
    "    indices = np.concatenate([when_task[0], when_no_task])\n",
    "    np.random.shuffle(indices)\n",
    "    return indices"
   ]
  },
  {
   "cell_type": "code",
   "execution_count": 12,
   "metadata": {},
   "outputs": [],
   "source": [
    "def balance_set(indices, x_train, y_train):\n",
    "    balance_x = []\n",
    "    balance_y = []\n",
    "    for index in indices:\n",
    "        balance_x.append(x_train[index])\n",
    "        balance_y.append(y_train[index])\n",
    "    return np.array(balance_x), np.array(balance_y)"
   ]
  },
  {
   "cell_type": "code",
   "execution_count": 13,
   "metadata": {},
   "outputs": [],
   "source": [
    "def predict_on_sub(x_test, model, split_size, sub_size):\n",
    "    split_size = int(len(x_test) / split_size)\n",
    "    sub_x_test = x_test[1000::sub_size]\n",
    "    batch = []\n",
    "    predictions = np.array([])\n",
    "    for i in range(len(sub_x_test)):\n",
    "        batch.append(sub_x_test[i])\n",
    "        if i+1 == len(sub_x_test):\n",
    "            return np.concatenate([predictions, model.predict(np.array(batch))[:,1]])\n",
    "        elif (i+1) % split_size == 0:\n",
    "            predictions = np.concatenate([predictions, model.predict(np.array(batch))[:,1]])\n",
    "            batch = []"
   ]
  },
  {
   "cell_type": "code",
   "execution_count": 14,
   "metadata": {},
   "outputs": [],
   "source": [
    "def init_cnn(window):\n",
    "    model = Sequential()\n",
    "    model.add(Conv1D(nb_filter=16, filter_length=3, activation='relu', input_shape=(window, 32)))\n",
    "    model.add(MaxPooling1D(3,2))\n",
    "    model.add(Conv1D(nb_filter=32, filter_length=3, activation='relu'))\n",
    "    model.add(Conv1D(nb_filter=64, filter_length=3, activation='relu'))\n",
    "    model.add(MaxPooling1D(3,2))\n",
    "    model.add(Dropout(0.5))\n",
    "    model.add(Dense(128, activation='relu'))\n",
    "    model.add(Dropout(0.5))\n",
    "    model.add(Flatten())\n",
    "    model.add(Dense(128, activation='relu'))\n",
    "    model.add(Dense(2, activation='softmax'))\n",
    "#     model.summary()\n",
    "    \n",
    "    optimizer = SGD(lr=0.001, momentum=0.0, decay=0.0, nesterov=False)\n",
    "#     optimizer = Adam(lr=1e-6)\n",
    "    model.compile(optimizer=optimizer, loss='binary_crossentropy', metrics=['accuracy'])\n",
    "    return model"
   ]
  },
  {
   "cell_type": "code",
   "execution_count": 15,
   "metadata": {
    "scrolled": false
   },
   "outputs": [
    {
     "name": "stdout",
     "output_type": "stream",
     "text": [
      "WARNING:tensorflow:From c:\\users\\sebastiaan\\appdata\\local\\programs\\python\\python36\\lib\\site-packages\\tensorflow\\python\\util\\deprecation.py:497: calling conv1d (from tensorflow.python.ops.nn_ops) with data_format=NHWC is deprecated and will be removed in a future version.\n",
      "Instructions for updating:\n",
      "`NHWC` for data_format is deprecated, use `NWC` instead\n",
      "Train subject 1, class HandStart\n",
      "Train on 49715 samples, validate on 12429 samples\n",
      "Epoch 1/50\n",
      "49715/49715 [==============================] - 245s 5ms/step - loss: 0.6829 - acc: 0.5575 - val_loss: 0.6542 - val_acc: 0.6315\n",
      "Epoch 2/50\n",
      "49715/49715 [==============================] - 245s 5ms/step - loss: 0.6178 - acc: 0.6567 - val_loss: 0.5811 - val_acc: 0.6924\n",
      "Epoch 3/50\n",
      "49715/49715 [==============================] - 245s 5ms/step - loss: 0.5606 - acc: 0.6995 - val_loss: 0.5590 - val_acc: 0.7044\n",
      "Epoch 4/50\n",
      "49715/49715 [==============================] - 243s 5ms/step - loss: 0.5321 - acc: 0.7179 - val_loss: 0.5513 - val_acc: 0.7112\n",
      "Epoch 5/50\n",
      "49715/49715 [==============================] - 256s 5ms/step - loss: 0.5098 - acc: 0.7304 - val_loss: 0.5610 - val_acc: 0.7190\n",
      "Epoch 6/50\n",
      "49715/49715 [==============================] - 237s 5ms/step - loss: 0.4908 - acc: 0.7438 - val_loss: 0.5177 - val_acc: 0.7357\n",
      "Epoch 7/50\n",
      "49715/49715 [==============================] - 253s 5ms/step - loss: 0.4716 - acc: 0.7600 - val_loss: 0.5169 - val_acc: 0.7367\n",
      "Epoch 8/50\n",
      "49715/49715 [==============================] - 222s 4ms/step - loss: 0.4548 - acc: 0.7716 - val_loss: 0.4840 - val_acc: 0.7577\n",
      "Epoch 9/50\n",
      "49715/49715 [==============================] - 261s 5ms/step - loss: 0.4386 - acc: 0.7851 - val_loss: 0.4861 - val_acc: 0.7623\n",
      "Epoch 10/50\n",
      "49715/49715 [==============================] - 223s 4ms/step - loss: 0.4233 - acc: 0.7958 - val_loss: 0.4238 - val_acc: 0.7913\n",
      "Epoch 11/50\n",
      "49715/49715 [==============================] - 230s 5ms/step - loss: 0.4064 - acc: 0.8055 - val_loss: 0.4847 - val_acc: 0.7678\n",
      "Epoch 12/50\n",
      "49715/49715 [==============================] - 240s 5ms/step - loss: 0.3917 - acc: 0.8161 - val_loss: 0.3989 - val_acc: 0.8091\n",
      "Epoch 13/50\n",
      "49715/49715 [==============================] - 232s 5ms/step - loss: 0.3774 - acc: 0.8235 - val_loss: 0.4275 - val_acc: 0.7984\n",
      "Epoch 14/50\n",
      "49715/49715 [==============================] - 241s 5ms/step - loss: 0.3622 - acc: 0.8336 - val_loss: 0.3543 - val_acc: 0.8399\n",
      "Epoch 15/50\n",
      "49715/49715 [==============================] - 226s 5ms/step - loss: 0.3492 - acc: 0.8407 - val_loss: 0.4232 - val_acc: 0.8029\n",
      "Epoch 16/50\n",
      "49715/49715 [==============================] - 237s 5ms/step - loss: 0.3361 - acc: 0.8490 - val_loss: 0.4044 - val_acc: 0.8185\n",
      "Epoch 17/50\n",
      "49715/49715 [==============================] - 218s 4ms/step - loss: 0.3236 - acc: 0.8582 - val_loss: 0.3855 - val_acc: 0.8273\n",
      "Epoch 18/50\n",
      "49715/49715 [==============================] - 219s 4ms/step - loss: 0.3121 - acc: 0.8648 - val_loss: 0.3257 - val_acc: 0.8575\n",
      "Epoch 19/50\n",
      "49715/49715 [==============================] - 212s 4ms/step - loss: 0.2995 - acc: 0.8731 - val_loss: 0.3670 - val_acc: 0.8386\n",
      "Epoch 20/50\n",
      "49715/49715 [==============================] - 226s 5ms/step - loss: 0.2908 - acc: 0.8779 - val_loss: 0.3315 - val_acc: 0.8566\n",
      "Epoch 21/50\n",
      "49715/49715 [==============================] - 203s 4ms/step - loss: 0.2789 - acc: 0.8842 - val_loss: 0.3301 - val_acc: 0.8589\n",
      "Epoch 22/50\n",
      "49715/49715 [==============================] - 217s 4ms/step - loss: 0.2710 - acc: 0.8899 - val_loss: 0.2974 - val_acc: 0.8773\n",
      "Epoch 23/50\n",
      "49715/49715 [==============================] - 219s 4ms/step - loss: 0.2606 - acc: 0.8946 - val_loss: 0.3372 - val_acc: 0.8601\n",
      "Epoch 24/50\n",
      "49715/49715 [==============================] - 208s 4ms/step - loss: 0.2543 - acc: 0.8955 - val_loss: 0.2400 - val_acc: 0.9059\n",
      "Epoch 25/50\n",
      "49715/49715 [==============================] - 220s 4ms/step - loss: 0.2468 - acc: 0.9009 - val_loss: 0.2907 - val_acc: 0.8808\n",
      "Epoch 26/50\n",
      "49715/49715 [==============================] - 208s 4ms/step - loss: 0.2400 - acc: 0.9044 - val_loss: 0.2723 - val_acc: 0.8895\n",
      "Epoch 27/50\n",
      "49715/49715 [==============================] - 228s 5ms/step - loss: 0.2319 - acc: 0.9085 - val_loss: 0.2338 - val_acc: 0.9092\n",
      "Epoch 28/50\n",
      "49715/49715 [==============================] - 225s 5ms/step - loss: 0.2252 - acc: 0.9127 - val_loss: 0.2814 - val_acc: 0.8885\n",
      "Epoch 29/50\n",
      "49715/49715 [==============================] - 206s 4ms/step - loss: 0.2197 - acc: 0.9139 - val_loss: 0.2153 - val_acc: 0.9179\n",
      "Epoch 30/50\n",
      "49715/49715 [==============================] - 207s 4ms/step - loss: 0.2129 - acc: 0.9176 - val_loss: 0.1934 - val_acc: 0.9263\n",
      "Epoch 31/50\n",
      "49715/49715 [==============================] - 224s 5ms/step - loss: 0.2065 - acc: 0.9189 - val_loss: 0.3112 - val_acc: 0.8792\n",
      "Epoch 32/50\n",
      "49715/49715 [==============================] - 222s 4ms/step - loss: 0.2029 - acc: 0.9226 - val_loss: 0.2047 - val_acc: 0.9236\n",
      "Epoch 33/50\n",
      "49715/49715 [==============================] - 220s 4ms/step - loss: 0.1977 - acc: 0.9247 - val_loss: 0.2355 - val_acc: 0.9092\n",
      "Epoch 34/50\n",
      "49715/49715 [==============================] - 224s 5ms/step - loss: 0.1936 - acc: 0.9267 - val_loss: 0.2141 - val_acc: 0.9199\n",
      "Epoch 35/50\n",
      "49715/49715 [==============================] - 214s 4ms/step - loss: 0.1902 - acc: 0.9266 - val_loss: 0.2358 - val_acc: 0.9117\n",
      "Epoch 36/50\n",
      "49715/49715 [==============================] - 207s 4ms/step - loss: 0.1863 - acc: 0.9296 - val_loss: 0.2060 - val_acc: 0.9235\n",
      "Epoch 37/50\n",
      "49715/49715 [==============================] - 210s 4ms/step - loss: 0.1811 - acc: 0.9315 - val_loss: 0.1856 - val_acc: 0.9329\n",
      "Epoch 38/50\n",
      "49715/49715 [==============================] - 209s 4ms/step - loss: 0.1775 - acc: 0.9338 - val_loss: 0.2165 - val_acc: 0.9186\n",
      "Epoch 39/50\n",
      "49715/49715 [==============================] - 215s 4ms/step - loss: 0.1754 - acc: 0.9358 - val_loss: 0.1717 - val_acc: 0.9355\n",
      "Epoch 40/50\n",
      "49715/49715 [==============================] - 215s 4ms/step - loss: 0.1718 - acc: 0.9355 - val_loss: 0.2346 - val_acc: 0.9117\n",
      "Epoch 41/50\n",
      "49715/49715 [==============================] - 207s 4ms/step - loss: 0.1671 - acc: 0.9387 - val_loss: 0.2337 - val_acc: 0.9116\n",
      "Epoch 42/50\n",
      "49715/49715 [==============================] - 199s 4ms/step - loss: 0.1657 - acc: 0.9405 - val_loss: 0.2037 - val_acc: 0.9236\n",
      "Epoch 43/50\n",
      "49715/49715 [==============================] - 213s 4ms/step - loss: 0.1643 - acc: 0.9398 - val_loss: 0.1690 - val_acc: 0.9380\n",
      "Epoch 44/50\n",
      "49715/49715 [==============================] - 221s 4ms/step - loss: 0.1593 - acc: 0.9426 - val_loss: 0.1604 - val_acc: 0.9403\n",
      "Epoch 45/50\n",
      "49715/49715 [==============================] - 218s 4ms/step - loss: 0.1569 - acc: 0.9429 - val_loss: 0.1485 - val_acc: 0.9469\n",
      "Epoch 46/50\n",
      "49715/49715 [==============================] - 194s 4ms/step - loss: 0.1541 - acc: 0.9445 - val_loss: 0.1750 - val_acc: 0.9356\n",
      "Epoch 47/50\n",
      "49715/49715 [==============================] - 205s 4ms/step - loss: 0.1527 - acc: 0.9451 - val_loss: 0.1361 - val_acc: 0.9531\n",
      "Epoch 48/50\n",
      "49715/49715 [==============================] - 219s 4ms/step - loss: 0.1492 - acc: 0.9462 - val_loss: 0.1631 - val_acc: 0.9398\n",
      "Epoch 49/50\n",
      "49715/49715 [==============================] - 208s 4ms/step - loss: 0.1469 - acc: 0.9464 - val_loss: 0.1671 - val_acc: 0.9395\n",
      "Epoch 50/50\n",
      "49715/49715 [==============================] - 214s 4ms/step - loss: 0.1450 - acc: 0.9471 - val_loss: 0.1711 - val_acc: 0.9379\n",
      "HandStart AUC score = 0.988\n"
     ]
    },
    {
     "data": {
      "image/png": "[encoded data removed]",
      "text/plain": [
       "<Figure size 432x288 with 1 Axes>"
      ]
     },
     "metadata": {},
     "output_type": "display_data"
    },
    {
     "ename": "IndexError",
     "evalue": "too many indices for array",
     "output_type": "error",
     "traceback": [
      "\u001b[1;31m---------------------------------------------------------------------------\u001b[0m",
      "\u001b[1;31mIndexError\u001b[0m                                Traceback (most recent call last)",
      "\u001b[1;32m<ipython-input-15-e786a9f0ab73>\u001b[0m in \u001b[0;36m<module>\u001b[1;34m()\u001b[0m\n\u001b[0;32m     20\u001b[0m         \u001b[0mmodel\u001b[0m \u001b[1;33m=\u001b[0m \u001b[0minit_cnn\u001b[0m\u001b[1;33m(\u001b[0m\u001b[0mWINDOW_SIZE\u001b[0m\u001b[1;33m)\u001b[0m\u001b[1;33m\u001b[0m\u001b[0m\n\u001b[0;32m     21\u001b[0m \u001b[1;33m\u001b[0m\u001b[0m\n\u001b[1;32m---> 22\u001b[1;33m         \u001b[0mindices\u001b[0m \u001b[1;33m=\u001b[0m \u001b[0mresample_and_shuffle\u001b[0m\u001b[1;33m(\u001b[0m\u001b[0my_train\u001b[0m\u001b[1;33m[\u001b[0m\u001b[1;33m:\u001b[0m\u001b[1;33m,\u001b[0m\u001b[0mi\u001b[0m\u001b[1;33m]\u001b[0m\u001b[1;33m)\u001b[0m\u001b[1;33m\u001b[0m\u001b[0m\n\u001b[0m\u001b[0;32m     23\u001b[0m \u001b[1;33m\u001b[0m\u001b[0m\n\u001b[0;32m     24\u001b[0m         \u001b[0mx_train\u001b[0m\u001b[1;33m,\u001b[0m \u001b[0my_train\u001b[0m \u001b[1;33m=\u001b[0m \u001b[0mbalance_set\u001b[0m\u001b[1;33m(\u001b[0m\u001b[0mindices\u001b[0m\u001b[1;33m,\u001b[0m \u001b[0mx_train\u001b[0m\u001b[1;33m,\u001b[0m \u001b[0my_train\u001b[0m\u001b[1;33m[\u001b[0m\u001b[1;33m:\u001b[0m\u001b[1;33m,\u001b[0m\u001b[0mi\u001b[0m\u001b[1;33m]\u001b[0m\u001b[1;33m)\u001b[0m\u001b[1;33m\u001b[0m\u001b[0m\n",
      "\u001b[1;31mIndexError\u001b[0m: too many indices for array"
     ]
    }
   ],
   "source": [
    "prediction_total = []\n",
    "test_data_total = []\n",
    "ids_total = []\n",
    "for subject in SUBJECTS:\n",
    "    test_features_raw = []\n",
    "    train_data_paths = glob(TRAIN_DATA_PATH % (subject))\n",
    "\n",
    "  \n",
    "    \n",
    "    x_raw, y_raw = read_training_data(train_data_paths)\n",
    "    \n",
    "    x_raw, scaler = scaler_transform(x_raw, None)\n",
    "    \n",
    "    x_raw = image_mappping(x_raw, WINDOW_SIZE)\n",
    "\n",
    "    x_train, x_test, y_train, y_test = train_test_split(x_raw, y_raw, test_size=0.2)\n",
    "\n",
    "    \n",
    "    for i in range(N_LABELS):\n",
    "        model = init_cnn(WINDOW_SIZE)\n",
    "\n",
    "        indices = resample_and_shuffle(y_train[:,i])\n",
    "        \n",
    "        x_train, y_train = balance_set(indices, x_train, y_train[:,i])\n",
    "\n",
    "        train_labels = to_categorical(y_train, num_classes = None)\n",
    "        test_labels = to_categorical(y_test[:,i], num_classes = None)\n",
    "        \n",
    "#         predictions = np.empty((y_test.shape[0],6))\n",
    "        \n",
    "        print('Train subject %d, class %s' % (subject, COLUMNS[i]))        \n",
    "        model.fit(x_train, train_labels, verbose=1, validation_split=0.2, epochs=50)\n",
    "        \n",
    "        predictions = predict_on_sub(x_test, model, 50, 10)\n",
    "        \n",
    "        single_metric_auc_score(predictions, y_test[:,i][1000::10], True, i)\n",
    "        \n",
    "        prediction_total.append(predictions)"
   ]
  },
  {
   "cell_type": "code",
   "execution_count": null,
   "metadata": {},
   "outputs": [],
   "source": [
    "from keras.models import load_model\n",
    "model.save('my_model.h5')"
   ]
  },
  {
   "cell_type": "code",
   "execution_count": null,
   "metadata": {},
   "outputs": [],
   "source": []
  }
 ],
 "metadata": {
  "kernelspec": {
   "display_name": "Python 3",
   "language": "python",
   "name": "python3"
  },
  "language_info": {
   "codemirror_mode": {
    "name": "ipython",
    "version": 3
   },
   "file_extension": ".py",
   "mimetype": "text/x-python",
   "name": "python",
   "nbconvert_exporter": "python",
   "pygments_lexer": "ipython3",
   "version": "3.6.4"
  }
 },
 "nbformat": 4,
 "nbformat_minor": 2
}
