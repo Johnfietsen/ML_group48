{
 "cells": [
  {
   "cell_type": "code",
   "execution_count": 113,
   "metadata": {},
   "outputs": [],
   "source": [
    "\n",
    "from keras.utils import to_categorical\n",
    "from keras.optimizers import Adam, Adadelta\n",
    "from keras.models import Sequential\n",
    "from keras.layers import Dense, Activation, Conv2D, MaxPool2D, Dropout, Flatten, Conv1D\n",
    "from keras.layers.convolutional import MaxPooling2D, MaxPooling1D\n",
    "from keras.models import load_model\n",
    "import numpy as np\n",
    "import pandas as pd\n",
    "from sklearn.linear_model import LogisticRegression\n",
    "from sklearn.preprocessing import StandardScaler\n",
    "from sklearn.decomposition import PCA\n",
    "from sklearn.model_selection import train_test_split\n",
    "from sklearn.metrics import roc_curve, auc, roc_auc_score\n",
    "from sklearn.utils import class_weight\n",
    "from scipy import signal\n",
    "from glob import glob\n",
    "import matplotlib.pyplot as plt\n",
    "import warnings\n",
    "warnings.filterwarnings('ignore')"
   ]
  },
  {
   "cell_type": "code",
   "execution_count": 21,
   "metadata": {},
   "outputs": [],
   "source": [
    "# constants:\n",
    "SUBSAMPLE = 100  # scales the data by this factor can be replaced by divding the steps per epoch by batch size\n",
    "COLUMNS = ['HandStart', 'FirstDigitTouch',\n",
    "        'BothStartLoadPhase', 'LiftOff',\n",
    "        'Replace', 'BothReleased']\n",
    "SUBJECTS = range(1, 2)\n",
    "N_LABELS = 6\n",
    "\n",
    "# Below are the paths to the data. Please pay attention to the % and * signs, these are needed in the loop.\n",
    "TRAIN_DATA_PATH = 'C:/Users/Sebastiaan/Desktop/Programming/MachineLearning/Datasets/EEG/train/subj%d_series*_data.csv'\n",
    "#The path below is for the test data used for a kaggle submission. This is not very relevant to our project.\n",
    "# TEST_DATA_PATH = 'C:/Users/Sebastiaan/Desktop/Programming/MachineLearning/Datasets/EEG/test/subj%d_series*_data.csv'\n",
    "# TRAIN_DATA_PATH = 'C:/Users/bas/Documents/MachineLearning/train/subj%d_series*_data.csv' #path on my laptop\n",
    "# TEST_DATA_PATH =  'C:/Users/bas/Documents/MachineLearning/test/subj%d_series*_data.csv' \n",
    "\n",
    "SUBMISSION_FOLDER = 'C:/Users/Sebastiaan/Desktop/Programming/MachineLearning/'\n",
    "SUBMISSION_NAME = 'subbmision_vu_48_sub_pca_4.csv'\n",
    "\n",
    "PCA_COMPONENTS = 0.8\n",
    "CUTT_OFF_FREQUENCY = 2\n",
    "ORDER = 4\n",
    "SAMPLE_FREQUENCY = 500\n",
    "\n",
    "EPOCHS = 5\n",
    "WINDOW_SIZE = 500"
   ]
  },
  {
   "cell_type": "code",
   "execution_count": 22,
   "metadata": {},
   "outputs": [],
   "source": [
    "def prepare_training_data(data_path):\n",
    "    data = pd.read_csv(data_path)\n",
    "    event_path = data_path.replace('_data', '_events')\n",
    "    labels = pd.read_csv(event_path)\n",
    "    clean_data = data.drop(['id'], axis = 1)\n",
    "    labels = labels.drop(['id'], axis = 1)\n",
    "    return clean_data, labels"
   ]
  },
  {
   "cell_type": "code",
   "execution_count": 23,
   "metadata": {},
   "outputs": [],
   "source": [
    "def prepare_test_data(data_path):\n",
    "    data = pd.read_csv(data_path)\n",
    "    return data"
   ]
  },
  {
   "cell_type": "code",
   "execution_count": 24,
   "metadata": {},
   "outputs": [],
   "source": [
    "def scaler_transform(data, scaler):\n",
    "    if scaler == None:\n",
    "        scaler = StandardScaler()\n",
    "        return scaler.fit_transform(data), scaler\n",
    "    else:\n",
    "        return scaler.transform(data)        "
   ]
  },
  {
   "cell_type": "code",
   "execution_count": 25,
   "metadata": {},
   "outputs": [],
   "source": [
    "def read_training_data(train_data_paths):\n",
    "    labels_raw = []\n",
    "    features_raw = []\n",
    "    for data_path in train_data_paths:\n",
    "        data, labels = prepare_training_data(data_path)\n",
    "        features_raw.append(data)\n",
    "        labels_raw.append(labels)\n",
    "    features_raw = pd.concat(features_raw)\n",
    "    labels_raw = pd.concat(labels_raw)\n",
    "    x_train = np.asarray(features_raw.astype(float))\n",
    "    y_train = np.asarray(labels_raw.astype(float))\n",
    "    return x_train, y_train"
   ]
  },
  {
   "cell_type": "code",
   "execution_count": 26,
   "metadata": {},
   "outputs": [],
   "source": [
    "def read_test_data(test_data_paths):\n",
    "    test_features_raw = []\n",
    "    ids = []\n",
    "    for data_path in test_data_paths:\n",
    "        data = prepare_test_data(data_path)\n",
    "        test_features_raw.append(data)\n",
    "        ids.append(np.array(data['id']))\n",
    "    test_features_raw = pd.concat(test_features_raw)\n",
    "    ids = np.concatenate(ids)\n",
    "    test_features_raw = test_features_raw.drop(['id'], axis = 1)\n",
    "    x_test = np.asarray(test_features_raw.astype(float))\n",
    "    return x_test, ids"
   ]
  },
  {
   "cell_type": "code",
   "execution_count": 27,
   "metadata": {},
   "outputs": [],
   "source": [
    "def metric_auc_score(predictions, y_test, with_plot):\n",
    "    scores = []\n",
    "    legend_text = []\n",
    "    for i in range(N_LABELS):\n",
    "        fpr, tpr, _  = roc_curve(y_test[:,i], predictions[:,i], 1)\n",
    "        scores.append(roc_auc_score(y_test[:,i], predictions[:,i]))\n",
    "        legend_text.append(COLUMNS[i]+' (area = %.3f)' % (scores[i]))\n",
    "        if with_plot == True:\n",
    "            plt.plot(fpr, tpr)\n",
    "    if with_plot == True:\n",
    "        plt.xlabel('False Positive Rate')\n",
    "        plt.ylabel('True Positive Rate')\n",
    "        plt.title('ROC Curves')\n",
    "        plt.legend(legend_text)\n",
    "        plt.show()\n",
    "    return scores"
   ]
  },
  {
   "cell_type": "code",
   "execution_count": 28,
   "metadata": {},
   "outputs": [],
   "source": [
    "def single_metric_auc_score(predictions, y_test, with_plot):\n",
    "    fpr, tpr, _  = roc_curve(y_test, predictions, 1)\n",
    "    score = roc_auc_score(y_test, predictions)\n",
    "    print(COLUMNS[0]+' AUC score = %.3f' % (score))\n",
    "    if with_plot == True:\n",
    "        plt.plot(fpr, tpr)\n",
    "        plt.xlabel('False Positive Rate')\n",
    "        plt.ylabel('True Positive Rate')\n",
    "        plt.title('ROC Curves')\n",
    "        plt.show()\n",
    "    return score"
   ]
  },
  {
   "cell_type": "code",
   "execution_count": 29,
   "metadata": {},
   "outputs": [],
   "source": [
    "def all_auc_scores(prediction_total, test_data_total, subjects, with_plot):\n",
    "    scores = []\n",
    "    for subject in subjects:\n",
    "        score = metric_auc_score(prediction_total[subject-1],\n",
    "                                 test_data_total[subject-1], with_plot)\n",
    "        scores.append(score)\n",
    "        print('Mean AUC Score of Subject %d: %.3f' % \\\n",
    "              (subject, np.mean(score)))\n",
    "    return scores"
   ]
  },
  {
   "cell_type": "code",
   "execution_count": 125,
   "metadata": {},
   "outputs": [],
   "source": [
    "# def image_mappping(x_train, WINDOW_SIZE):\n",
    "#     result = []\n",
    "#     empty_matrix = np.atleast_3d(np.zeros(np.shape(x_train[0:WINDOW_SIZE])))\n",
    "#     for i in range(len(x_train)):\n",
    "#         if i-WINDOW_SIZE < 0:\n",
    "#             result.append(empty_matrix)\n",
    "#         else:\n",
    "#             result.append(np.atleast_3d(x_train[i-WINDOW_SIZE:i]))\n",
    "#     return result\n",
    "\n",
    "def image_mappping(x_train, WINDOW_SIZE):\n",
    "    result = []\n",
    "    empty_matrix = np.zeros(np.shape(x_train[0:WINDOW_SIZE]))\n",
    "    for i in range(len(x_train)):\n",
    "        if i-WINDOW_SIZE < 0:\n",
    "            result.append(empty_matrix)\n",
    "        else:\n",
    "            result.append(x_train[i-WINDOW_SIZE:i])\n",
    "    return result"
   ]
  },
  {
   "cell_type": "code",
   "execution_count": 123,
   "metadata": {},
   "outputs": [],
   "source": [
    "def train_generator(x_train, y_train, WINDOW_SIZE):\n",
    "    x = image_mappping(x_train, WINDOW_SIZE)\n",
    "    while True:\n",
    "        for image, task in zip(x, y_train):\n",
    "            yield np.array([image]), np.array([task])"
   ]
  },
  {
   "cell_type": "code",
   "execution_count": 32,
   "metadata": {},
   "outputs": [],
   "source": [
    "def test_generator(x_test, WINDOW_SIZE):\n",
    "    x = image_mappping(x_test, WINDOW_SIZE)\n",
    "    while True:\n",
    "        for image in x:\n",
    "            yield np.array([image])"
   ]
  },
  {
   "cell_type": "code",
   "execution_count": null,
   "metadata": {},
   "outputs": [],
   "source": [
    "def class_weights(y_train):\n",
    "    class_weight = class_weight.compute_class_weight('balanced', np.unique(y_train[:,0]), y_train[:,0])\n",
    "    return {0 : class_weight[1], 2: class_weight[0]}"
   ]
  },
  {
   "cell_type": "code",
   "execution_count": 143,
   "metadata": {},
   "outputs": [],
   "source": [
    "def init_cnn(window):\n",
    "    model = Sequential((\n",
    "    # The first conv layer learns `nb_filter` filters (aka kernels), each of size ``(filter_length, nb_input_series)``.\n",
    "    # Its output will have shape (None, window_size - filter_length + 1, nb_filter), i.e., for each position in\n",
    "    # the input timeseries, the activation of each filter at that position.\n",
    "    Conv1D(nb_filter=50, filter_length=250, activation='relu', input_shape=(window, 32)),\n",
    "    MaxPooling1D(),     # Downsample the output of convolution by 2X.\n",
    "    Conv1D(nb_filter=50, filter_length=100, activation='relu'),\n",
    "    MaxPooling1D(),\n",
    "    Flatten(),\n",
    "    Dense(2, activation='softmax'),    \n",
    "    ))\n",
    "    optimizer = Adadelta()\n",
    "    model.compile(optimizer=optimizer, loss='binary_crossentropy', metrics=['accuracy'])\n",
    "    model.summary()\n",
    "\n",
    "    \n",
    "#     model = Sequential()\n",
    "#     model.add(Conv2D(16, kernel_size=(3, 3), activation='relu', input_shape=(window,32,1)))\n",
    "#     model.add(Conv2D(32, (3, 3), activation='relu'))\n",
    "#     model.add(MaxPool2D(pool_size=(2, 2)))\n",
    "#     model.add(Dropout(0.25)) # Dropout 25% of the nodes of the previous layer during training\n",
    "#     model.add(Flatten())     # Flatten, and add a fully connected layer\n",
    "#     model.add(Dense(128, activation='relu')) \n",
    "#     model.add(Dropout(0.5))\n",
    "#     model.add(Dense(2, activation='softmax')) # Last layer: 10 class nodes, with dropout\n",
    "#     model.summary()\n",
    "    optimizer = Adadelta()\n",
    "    model.compile(optimizer=optimizer, loss='binary_crossentropy', metrics=['accuracy'])\n",
    "    return model"
   ]
  },
  {
   "cell_type": "code",
   "execution_count": 147,
   "metadata": {},
   "outputs": [],
   "source": [
    "for subject in SUBJECTS:\n",
    "    test_features_raw = []\n",
    "    train_data_paths = glob(TRAIN_DATA_PATH % (subject))\n",
    "  \n",
    "    x_train, y_train = read_training_data(train_data_paths)  \n",
    "    x_train, x_test, y_train, y_test = train_test_split(x_train, y_train, test_size=0.5)\n",
    "    \n",
    "    x_train, scaler = scaler_transform(x_train, None)\n",
    "    x_test = scaler_transform(x_test, scaler)\n",
    "    \n",
    "    train_labels = to_categorical(y_train[:,0], num_classes = None)\n",
    "    test_labels = to_categorical(y_test[:,0], num_classes = None)\n",
    "\n",
    "    class_weights = class_weight.compute_class_weight('balanced', np.unique(y_train[:,0]), y_train[:,0])\n",
    "    class_weights = {0 : 1., 1: class_weights[1], 2: class_weights[0]}\n",
    "    \n",
    "    \n"
   ]
  },
  {
   "cell_type": "code",
   "execution_count": 148,
   "metadata": {},
   "outputs": [
    {
     "name": "stdout",
     "output_type": "stream",
     "text": [
      "_________________________________________________________________\n",
      "Layer (type)                 Output Shape              Param #   \n",
      "=================================================================\n",
      "conv1d_16 (Conv1D)           (None, 251, 50)           400050    \n",
      "_________________________________________________________________\n",
      "max_pooling1d_15 (MaxPooling (None, 125, 50)           0         \n",
      "_________________________________________________________________\n",
      "conv1d_17 (Conv1D)           (None, 26, 50)            250050    \n",
      "_________________________________________________________________\n",
      "max_pooling1d_16 (MaxPooling (None, 13, 50)            0         \n",
      "_________________________________________________________________\n",
      "flatten_18 (Flatten)         (None, 650)               0         \n",
      "_________________________________________________________________\n",
      "dense_34 (Dense)             (None, 2)                 1302      \n",
      "=================================================================\n",
      "Total params: 651,402\n",
      "Trainable params: 651,402\n",
      "Non-trainable params: 0\n",
      "_________________________________________________________________\n"
     ]
    }
   ],
   "source": [
    "model = init_cnn(window=WINDOW_SIZE)"
   ]
  },
  {
   "cell_type": "code",
   "execution_count": 149,
   "metadata": {
    "scrolled": false
   },
   "outputs": [
    {
     "name": "stdout",
     "output_type": "stream",
     "text": [
      "Epoch 1/2\n",
      "7112/7111 [==============================] - 137s 19ms/step - loss: 8.0873 - acc: 0.8783 - val_loss: 0.4766 - val_acc: 0.9698\n",
      "Epoch 2/2\n",
      "7112/7111 [==============================] - 124s 18ms/step - loss: 7.9129 - acc: 0.9730 - val_loss: 0.4621 - val_acc: 0.9712\n"
     ]
    },
    {
     "data": {
      "text/plain": [
       "<keras.callbacks.History at 0x1ab7c689eb8>"
      ]
     },
     "execution_count": 149,
     "metadata": {},
     "output_type": "execute_result"
    }
   ],
   "source": [
    "my_generater = train_generator(x_train, train_labels, WINDOW_SIZE)\n",
    "my_test_generater = train_generator(x_test, test_labels, WINDOW_SIZE)\n",
    "model.fit_generator(my_generater, steps_per_epoch=len(x_train)/100, epochs=2, \n",
    "                    class_weight=class_weights, verbose=1, \n",
    "                    validation_data=my_test_generater, \n",
    "                    validation_steps = len(x_test)/100)"
   ]
  },
  {
   "cell_type": "code",
   "execution_count": 150,
   "metadata": {
    "scrolled": false
   },
   "outputs": [],
   "source": [
    "my_test_generater = test_generator(x_test, WINDOW_SIZE)\n",
    "predictions = model.predict_generator(my_test_generater, steps=len(x_test)/100)"
   ]
  },
  {
   "cell_type": "code",
   "execution_count": 151,
   "metadata": {},
   "outputs": [
    {
     "name": "stdout",
     "output_type": "stream",
     "text": [
      "HandStart AUC score = 0.493\n"
     ]
    },
    {
     "data": {
      "image/png": "[encoded data removed]",
      "text/plain": [
       "<Figure size 432x288 with 1 Axes>"
      ]
     },
     "metadata": {},
     "output_type": "display_data"
    },
    {
     "name": "stdout",
     "output_type": "stream",
     "text": [
      "AUC score: 0.493\n"
     ]
    }
   ],
   "source": [
    "score = single_metric_auc_score(predictions[:, 1], test_labels[:,1][::100], True)\n",
    "print('AUC score: %.3f' % (score))"
   ]
  },
  {
   "cell_type": "code",
   "execution_count": 98,
   "metadata": {},
   "outputs": [
    {
     "data": {
      "text/plain": [
       "7112"
      ]
     },
     "execution_count": 98,
     "metadata": {},
     "output_type": "execute_result"
    }
   ],
   "source": [
    "model.save('my_model.h5')  # creates a HDF5 file 'my_model.h5'"
   ]
  },
  {
   "cell_type": "code",
   "execution_count": null,
   "metadata": {},
   "outputs": [],
   "source": []
  }
 ],
 "metadata": {
  "kernelspec": {
   "display_name": "Python 3",
   "language": "python",
   "name": "python3"
  },
  "language_info": {
   "codemirror_mode": {
    "name": "ipython",
    "version": 3
   },
   "file_extension": ".py",
   "mimetype": "text/x-python",
   "name": "python",
   "nbconvert_exporter": "python",
   "pygments_lexer": "ipython3",
   "version": "3.6.4"
  }
 },
 "nbformat": 4,
 "nbformat_minor": 2
}
